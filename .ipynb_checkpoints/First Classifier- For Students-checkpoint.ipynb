{
 "cells": [
  {
   "cell_type": "markdown",
   "metadata": {},
   "source": [
    "# **<font color= green>Accenture - Sentiment Analysis<font/>**\n",
    "    "
   ]
  },
  {
   "cell_type": "markdown",
   "metadata": {},
   "source": [
    "## <font color=purple>Installing scikit-learn</font>\n",
    "\n",
    "\n",
    "**Verify installation:** *(run on the terminal)*<br>\n",
    "python -m pip show scikit-learn &nbsp; <font color=green>*# to see which version and where scikit-learn is installed*</font><br>\n",
    "python -m pip freeze &nbsp; <font color=green>*#to see all packages installed in the active virtualenv*</font><br>\n",
    "python -c \"import sklearn; sklearn.show_versions()\""
   ]
  },
  {
   "cell_type": "code",
   "execution_count": 5,
   "metadata": {},
   "outputs": [
    {
     "name": "stdout",
     "output_type": "stream",
     "text": [
      "Requirement already up-to-date: pip in c:\\users\\rodrigo\\anaconda3\\lib\\site-packages (20.0.2)\n",
      "Note: you may need to restart the kernel to use updated packages.\n"
     ]
    }
   ],
   "source": [
    "pip install --upgrade pip"
   ]
  },
  {
   "cell_type": "code",
   "execution_count": 2,
   "metadata": {},
   "outputs": [
    {
     "name": "stdout",
     "output_type": "stream",
     "text": [
      "^C\n",
      "Note: you may need to restart the kernel to use updated packages.\n"
     ]
    }
   ],
   "source": [
    "pip install -U scikit-learn"
   ]
  },
  {
   "cell_type": "code",
   "execution_count": 3,
   "metadata": {},
   "outputs": [
    {
     "name": "stdout",
     "output_type": "stream",
     "text": [
      "Hello World!\n"
     ]
    }
   ],
   "source": [
    "print('Hello World!')"
   ]
  },
  {
   "cell_type": "markdown",
   "metadata": {},
   "source": [
    "**Verify is spicy is already installed** -- *(python -m pip show spicy)* -- **if not, then:**"
   ]
  },
  {
   "cell_type": "code",
   "execution_count": 4,
   "metadata": {},
   "outputs": [
    {
     "name": "stdout",
     "output_type": "stream",
     "text": [
      "Collecting spicy\n",
      "  Downloading spicy-0.16.0-py2.py3-none-any.whl (1.7 kB)\n",
      "Requirement already satisfied, skipping upgrade: scipy in c:\\users\\rodrigo\\anaconda3\\lib\\site-packages (from spicy) (1.3.1)\n",
      "Installing collected packages: spicy\n",
      "Successfully installed spicy-0.16.0\n",
      "Note: you may need to restart the kernel to use updated packages.\n"
     ]
    }
   ],
   "source": [
    "pip install -U spicy"
   ]
  },
  {
   "cell_type": "code",
   "execution_count": null,
   "metadata": {},
   "outputs": [],
   "source": [
    "pip install -U matplotlib"
   ]
  },
  {
   "cell_type": "markdown",
   "metadata": {},
   "source": [
    "## <font color=purple>Download and Load Dataset</font>\n",
    "dataset of 50,000 movie reviews taken from IMDb.\n",
    "\n",
    "\n",
    "**Download:** https://www.kaggle.com/lakshmi25npathi/imdb-dataset-of-50k-movie-reviews <br>\n",
    "**1.** Create a folder on the project root nammed \"DataSet\"<br>\n",
    "**2.** Move the file into the folder\n",
    "\n",
    "**Pandas DataFrame:** https://pandas.pydata.org/pandas-docs/stable/reference/api/pandas.DataFrame.html <br>"
   ]
  },
  {
   "cell_type": "code",
   "execution_count": 24,
   "metadata": {},
   "outputs": [
    {
     "data": {
      "text/html": [
       "<div>\n",
       "<style scoped>\n",
       "    .dataframe tbody tr th:only-of-type {\n",
       "        vertical-align: middle;\n",
       "    }\n",
       "\n",
       "    .dataframe tbody tr th {\n",
       "        vertical-align: top;\n",
       "    }\n",
       "\n",
       "    .dataframe thead th {\n",
       "        text-align: right;\n",
       "    }\n",
       "</style>\n",
       "<table border=\"1\" class=\"dataframe\">\n",
       "  <thead>\n",
       "    <tr style=\"text-align: right;\">\n",
       "      <th></th>\n",
       "      <th>review</th>\n",
       "      <th>sentiment</th>\n",
       "    </tr>\n",
       "  </thead>\n",
       "  <tbody>\n",
       "    <tr>\n",
       "      <td>0</td>\n",
       "      <td>One of the other reviewers has mentioned that after watching just 1 Oz episode you'll be hooked. They are right, as this is exactly what happened with me.&lt;br /&gt;&lt;br /&gt;The first thing that struck me about Oz was its brutality and unflinching scenes of violence, which set in right from the word GO. Trust me, this is not a show for the faint hearted or timid. This show pulls no punches with regards to drugs, sex or violence. Its is hardcore, in the classic use of the word.&lt;br /&gt;&lt;br /&gt;It is called OZ as that is the nickname given to the Oswald Maximum Security State Penitentary. It focuses mainly on Emerald City, an experimental section of the prison where all the cells have glass fronts and face inwards, so privacy is not high on the agenda. Em City is home to many..Aryans, Muslims, gangstas, Latinos, Christians, Italians, Irish and more....so scuffles, death stares, dodgy dealings and shady agreements are never far away.&lt;br /&gt;&lt;br /&gt;I would say the main appeal of the show is due to the fact that it goes where other shows wouldn't dare. Forget pretty pictures painted for mainstream audiences, forget charm, forget romance...OZ doesn't mess around. The first episode I ever saw struck me as so nasty it was surreal, I couldn't say I was ready for it, but as I watched more, I developed a taste for Oz, and got accustomed to the high levels of graphic violence. Not just violence, but injustice (crooked guards who'll be sold out for a nickel, inmates who'll kill on order and get away with it, well mannered, middle class inmates being turned into prison bitches due to their lack of street skills or prison experience) Watching Oz, you may become comfortable with what is uncomfortable viewing....thats if you can get in touch with your darker side.</td>\n",
       "      <td>positive</td>\n",
       "    </tr>\n",
       "    <tr>\n",
       "      <td>1</td>\n",
       "      <td>A wonderful little production. &lt;br /&gt;&lt;br /&gt;The filming technique is very unassuming- very old-time-BBC fashion and gives a comforting, and sometimes discomforting, sense of realism to the entire piece. &lt;br /&gt;&lt;br /&gt;The actors are extremely well chosen- Michael Sheen not only \"has got all the polari\" but he has all the voices down pat too! You can truly see the seamless editing guided by the references to Williams' diary entries, not only is it well worth the watching but it is a terrificly written and performed piece. A masterful production about one of the great master's of comedy and his life. &lt;br /&gt;&lt;br /&gt;The realism really comes home with the little things: the fantasy of the guard which, rather than use the traditional 'dream' techniques remains solid then disappears. It plays on our knowledge and our senses, particularly with the scenes concerning Orton and Halliwell and the sets (particularly of their flat with Halliwell's murals decorating every surface) are terribly well done.</td>\n",
       "      <td>positive</td>\n",
       "    </tr>\n",
       "  </tbody>\n",
       "</table>\n",
       "</div>"
      ],
      "text/plain": [
       "                                                                                                                                                                                                                                                                                                                                                                                                                                                                                                                                                                                                                                                                                                                                                                                                                                                                                                                                                                                                                                                                                                                                                                                                                                                                                                                                                                                                                                                                                                                                                                                                                                                                                                                                                                                                                              review  \\\n",
       "0  One of the other reviewers has mentioned that after watching just 1 Oz episode you'll be hooked. They are right, as this is exactly what happened with me.<br /><br />The first thing that struck me about Oz was its brutality and unflinching scenes of violence, which set in right from the word GO. Trust me, this is not a show for the faint hearted or timid. This show pulls no punches with regards to drugs, sex or violence. Its is hardcore, in the classic use of the word.<br /><br />It is called OZ as that is the nickname given to the Oswald Maximum Security State Penitentary. It focuses mainly on Emerald City, an experimental section of the prison where all the cells have glass fronts and face inwards, so privacy is not high on the agenda. Em City is home to many..Aryans, Muslims, gangstas, Latinos, Christians, Italians, Irish and more....so scuffles, death stares, dodgy dealings and shady agreements are never far away.<br /><br />I would say the main appeal of the show is due to the fact that it goes where other shows wouldn't dare. Forget pretty pictures painted for mainstream audiences, forget charm, forget romance...OZ doesn't mess around. The first episode I ever saw struck me as so nasty it was surreal, I couldn't say I was ready for it, but as I watched more, I developed a taste for Oz, and got accustomed to the high levels of graphic violence. Not just violence, but injustice (crooked guards who'll be sold out for a nickel, inmates who'll kill on order and get away with it, well mannered, middle class inmates being turned into prison bitches due to their lack of street skills or prison experience) Watching Oz, you may become comfortable with what is uncomfortable viewing....thats if you can get in touch with your darker side.   \n",
       "1  A wonderful little production. <br /><br />The filming technique is very unassuming- very old-time-BBC fashion and gives a comforting, and sometimes discomforting, sense of realism to the entire piece. <br /><br />The actors are extremely well chosen- Michael Sheen not only \"has got all the polari\" but he has all the voices down pat too! You can truly see the seamless editing guided by the references to Williams' diary entries, not only is it well worth the watching but it is a terrificly written and performed piece. A masterful production about one of the great master's of comedy and his life. <br /><br />The realism really comes home with the little things: the fantasy of the guard which, rather than use the traditional 'dream' techniques remains solid then disappears. It plays on our knowledge and our senses, particularly with the scenes concerning Orton and Halliwell and the sets (particularly of their flat with Halliwell's murals decorating every surface) are terribly well done.                                                                                                                                                                                                                                                                                                                                                                                                                                                                                                                                                                                                                                                                                                                                                                                              \n",
       "\n",
       "  sentiment  \n",
       "0  positive  \n",
       "1  positive  "
      ]
     },
     "execution_count": 24,
     "metadata": {},
     "output_type": "execute_result"
    }
   ],
   "source": [
    "import pandas as pd\n",
    "pd.set_option('max_colwidth', -1)\n",
    "\n",
    "dataset_path = \"data/\"\n",
    "df=pd.read_csv(dataset_path + 'IMDB Dataset.csv', sep=',', header=0)\n",
    "df.head(2)"
   ]
  },
  {
   "cell_type": "markdown",
   "metadata": {},
   "source": [
    "## <font color=purple>Clean and Preprocess</font>\n",
    "**Remove special characters**<br>\n",
    "Definition and replace of the special characters for a space or empty string"
   ]
  },
  {
   "cell_type": "code",
   "execution_count": 25,
   "metadata": {},
   "outputs": [
    {
     "data": {
      "text/html": [
       "<div>\n",
       "<style scoped>\n",
       "    .dataframe tbody tr th:only-of-type {\n",
       "        vertical-align: middle;\n",
       "    }\n",
       "\n",
       "    .dataframe tbody tr th {\n",
       "        vertical-align: top;\n",
       "    }\n",
       "\n",
       "    .dataframe thead th {\n",
       "        text-align: right;\n",
       "    }\n",
       "</style>\n",
       "<table border=\"1\" class=\"dataframe\">\n",
       "  <thead>\n",
       "    <tr style=\"text-align: right;\">\n",
       "      <th></th>\n",
       "      <th>review</th>\n",
       "      <th>sentiment</th>\n",
       "    </tr>\n",
       "  </thead>\n",
       "  <tbody>\n",
       "    <tr>\n",
       "      <td>0</td>\n",
       "      <td>One of the other reviewers has mentioned that after watching just 1 Oz episode youll be hooked They are right as this is exactly what happened with me The first thing that struck me about Oz was its brutality and unflinching scenes of violence which set in right from the word GO Trust me this is not a show for the faint hearted or timid This show pulls no punches with regards to drugs sex or violence Its is hardcore in the classic use of the word It is called OZ as that is the nickname given to the Oswald Maximum Security State Penitentary It focuses mainly on Emerald City an experimental section of the prison where all the cells have glass fronts and face inwards so privacy is not high on the agenda Em City is home to manyAryans Muslims gangstas Latinos Christians Italians Irish and moreso scuffles death stares dodgy dealings and shady agreements are never far away I would say the main appeal of the show is due to the fact that it goes where other shows wouldnt dare Forget pretty pictures painted for mainstream audiences forget charm forget romanceOZ doesnt mess around The first episode I ever saw struck me as so nasty it was surreal I couldnt say I was ready for it but as I watched more I developed a taste for Oz and got accustomed to the high levels of graphic violence Not just violence but injustice crooked guards wholl be sold out for a nickel inmates wholl kill on order and get away with it well mannered middle class inmates being turned into prison bitches due to their lack of street skills or prison experience Watching Oz you may become comfortable with what is uncomfortable viewingthats if you can get in touch with your darker side</td>\n",
       "      <td>positive</td>\n",
       "    </tr>\n",
       "  </tbody>\n",
       "</table>\n",
       "</div>"
      ],
      "text/plain": [
       "                                                                                                                                                                                                                                                                                                                                                                                                                                                                                                                                                                                                                                                                                                                                                                                                                                                                                                                                                                                                                                                                                                                                                                                                                                                                                                                                                                                                                                                                                                                                                                                                                                                                                                                                 review  \\\n",
       "0  One of the other reviewers has mentioned that after watching just 1 Oz episode youll be hooked They are right as this is exactly what happened with me The first thing that struck me about Oz was its brutality and unflinching scenes of violence which set in right from the word GO Trust me this is not a show for the faint hearted or timid This show pulls no punches with regards to drugs sex or violence Its is hardcore in the classic use of the word It is called OZ as that is the nickname given to the Oswald Maximum Security State Penitentary It focuses mainly on Emerald City an experimental section of the prison where all the cells have glass fronts and face inwards so privacy is not high on the agenda Em City is home to manyAryans Muslims gangstas Latinos Christians Italians Irish and moreso scuffles death stares dodgy dealings and shady agreements are never far away I would say the main appeal of the show is due to the fact that it goes where other shows wouldnt dare Forget pretty pictures painted for mainstream audiences forget charm forget romanceOZ doesnt mess around The first episode I ever saw struck me as so nasty it was surreal I couldnt say I was ready for it but as I watched more I developed a taste for Oz and got accustomed to the high levels of graphic violence Not just violence but injustice crooked guards wholl be sold out for a nickel inmates wholl kill on order and get away with it well mannered middle class inmates being turned into prison bitches due to their lack of street skills or prison experience Watching Oz you may become comfortable with what is uncomfortable viewingthats if you can get in touch with your darker side   \n",
       "\n",
       "  sentiment  \n",
       "0  positive  "
      ]
     },
     "execution_count": 25,
     "metadata": {},
     "output_type": "execute_result"
    }
   ],
   "source": [
    "import re\n",
    "\n",
    "REPLACE_NO_SPACE = re.compile(\"[.;:!\\'?,\\\"()\\[\\]]\")\n",
    "REPLACE_WITH_SPACE = re.compile(\"(<br\\s*/><br\\s*/>)|(\\-)|(\\/)\")\n",
    "\n",
    "df = df.replace(REPLACE_NO_SPACE, '')\n",
    "df = df.replace(REPLACE_WITH_SPACE, ' ')\n",
    "df.head(1)"
   ]
  },
  {
   "cell_type": "markdown",
   "metadata": {},
   "source": [
    "Now, we have to **stratify** the data and divide the data into a **Train** and **Test** set."
   ]
  },
  {
   "cell_type": "code",
   "execution_count": 26,
   "metadata": {},
   "outputs": [],
   "source": [
    "from sklearn.model_selection import train_test_split\n",
    "\n",
    "TRAIN, TEST = train_test_split(df, test_size=0.5, stratify=df['sentiment'])"
   ]
  },
  {
   "cell_type": "markdown",
   "metadata": {},
   "source": [
    "Subdivide each set into **X** and **Y**"
   ]
  },
  {
   "cell_type": "code",
   "execution_count": 27,
   "metadata": {},
   "outputs": [
    {
     "data": {
      "text/plain": [
       "27813    Being a fan of Billy Bob Thornton and the diversity of his skills I noticed this movie listed and was surprised I hadnt heard of it Id traveled more than usual during both the period it was being filmed in 2000 and when it hit theaters more than 2 1 2 years later that passage of time is the first clue all was not well with the production Now Patrick Swayze cant act for sour apples but Thornton has more than enough ability to make up for the difference between them And Charlize Theron is someone whom it would be a pleasure to see even if it showed her watching paint dry Being curious I checked this sites production info It made a whopping < $600 per screen its opening weekend and just over $400 each after its months theater run in latter 2002 Overall gross was $261K which Id doubt could cover cast and crews hotel and food for a week on location The story is pretty benign and even the use of the usually interesting locale of Reno is as dull as the rest of the goings on Its something like several SNL bits all pieced together none individually too great at all and the overall presentation even worse Whatever the expenses for this production had to be considerable   even if all worked for less than their usual fees   so the one thing which made it a barely tolerable opus was the quality of the filming and Billy Bobs present albeit understandably somewhat laconic here  compared with his usual work Think of the three superb totally diverse characters he portrayed in Sling Blade Bandits and Bad Santa and you know he realized this work was below standard long before the viewers had the opportunity to confirm this One star for him even here and one because production was better than say the typical Lifetime flick\n",
       "Name: review, dtype: object"
      ]
     },
     "execution_count": 27,
     "metadata": {},
     "output_type": "execute_result"
    }
   ],
   "source": [
    "Xtrain = TRAIN['review']\n",
    "Xtest = TEST['review']\n",
    "\n",
    "Ytrain = TRAIN['sentiment']\n",
    "Ytest = TEST['sentiment']\n",
    "Xtrain.head(1)"
   ]
  },
  {
   "cell_type": "markdown",
   "metadata": {},
   "source": [
    "## <font color=purple>Vectorization</font>\n",
    "\n",
    "In order to apply our machine learning algoritmos and therefore build an intelligent classifier, we must convert each review to a **numeric representation**. This process is called ***vectorization***. \n",
    "\n",
    "For this process we'll use ***CountVectorizer***(**bag of words**) which creates a large sparse matrix with one column for every unique word in our document and each review will be represented by a row. \n",
    "\n",
    "Firstly, we'll set the '***binary*** *=true*'. Therefore each review will be transformed into one row containing 0s and 1s, where 1 means that the word assigned to a collumn appears in that review. We will also set as input parameter the ***'stop_words'***, which are the set of words that don't add any contextual meaning.\n",
    "\n",
    "\n",
    "**Note** that the output is a sparse matrix (mostly zeros)."
   ]
  },
  {
   "cell_type": "code",
   "execution_count": 28,
   "metadata": {},
   "outputs": [
    {
     "name": "stdout",
     "output_type": "stream",
     "text": [
      "(25000, 94529)\n"
     ]
    }
   ],
   "source": [
    "from sklearn.feature_extraction.text import CountVectorizer\n",
    "\n",
    "cv = CountVectorizer(binary=True, stop_words='english')\n",
    "cv.fit(Xtrain)\n",
    "Xtrain = cv.transform(Xtrain)\n",
    "Xtest = cv.transform(Xtest)\n",
    "\n",
    "print(Xtrain.shape)"
   ]
  },
  {
   "cell_type": "code",
   "execution_count": 29,
   "metadata": {},
   "outputs": [
    {
     "name": "stdout",
     "output_type": "stream",
     "text": [
      "  (0, 693)\t1\n",
      "  (0, 705)\t1\n",
      "  (0, 865)\t1\n",
      "  (0, 1090)\t1\n",
      "  (0, 1264)\t1\n",
      "  (0, 1760)\t1\n",
      "  (0, 2239)\t1\n",
      "  (0, 3495)\t1\n",
      "  (0, 5282)\t1\n",
      "  (0, 7246)\t1\n",
      "  (0, 7640)\t1\n",
      "  (0, 7816)\t1\n",
      "  (0, 8993)\t1\n",
      "  (0, 9308)\t1\n",
      "  (0, 9611)\t1\n",
      "  (0, 9783)\t1\n",
      "  (0, 9927)\t1\n",
      "  (0, 10455)\t1\n",
      "  (0, 10473)\t1\n",
      "  (0, 14118)\t1\n",
      "  (0, 14986)\t1\n",
      "  (0, 15087)\t1\n",
      "  (0, 15242)\t1\n",
      "  (0, 16731)\t1\n",
      "  (0, 17560)\t1\n",
      "  :\t:\n",
      "  (0, 81776)\t1\n",
      "  (0, 83614)\t1\n",
      "  (0, 83615)\t1\n",
      "  (0, 83826)\t1\n",
      "  (0, 83897)\t1\n",
      "  (0, 83937)\t1\n",
      "  (0, 84094)\t1\n",
      "  (0, 84506)\t1\n",
      "  (0, 84967)\t1\n",
      "  (0, 85345)\t1\n",
      "  (0, 85888)\t1\n",
      "  (0, 86934)\t1\n",
      "  (0, 87589)\t1\n",
      "  (0, 88762)\t1\n",
      "  (0, 88818)\t1\n",
      "  (0, 88822)\t1\n",
      "  (0, 89792)\t1\n",
      "  (0, 90964)\t1\n",
      "  (0, 91262)\t1\n",
      "  (0, 91265)\t1\n",
      "  (0, 91944)\t1\n",
      "  (0, 92851)\t1\n",
      "  (0, 92861)\t1\n",
      "  (0, 92967)\t1\n",
      "  (0, 93631)\t1\n"
     ]
    }
   ],
   "source": [
    "print(Xtrain[0])"
   ]
  },
  {
   "cell_type": "markdown",
   "metadata": {},
   "source": [
    "## <font color=purple>Designing Phase</font>\n",
    "\n",
    "In this phase, the **Xtrain** set is subdivided into another *train* and *test* set, in order to tune the parameters of our classifier and decide which tune we consider to be **optimal** for the **performance** of our classifier.\n"
   ]
  },
  {
   "cell_type": "code",
   "execution_count": null,
   "metadata": {},
   "outputs": [],
   "source": [
    "from sklearn.linear_model import LogisticRegression\n",
    "from sklearn.metrics import accuracy_score\n",
    "\n",
    "X_train, X_test, Y_train, Y_test = train_test_split(Xtrain, Ytrain, train_size=0.8)\n",
    "\n",
    "for c in [0.01, 0.1, 0.5, 1, 1.5, 2]:\n",
    "    \n",
    "    lr = LogisticRegression(C=c, max_iter=200)\n",
    "    lr.fit(X_train, Y_train)\n",
    "    print('Accuracy for C=%s: %s' % (c, accuracy_score(Y_Test, lr.predict(X_test))))"
   ]
  },
  {
   "cell_type": "markdown",
   "metadata": {},
   "source": [
    "Then, ***'C = 0.1'*** is the optimal value for the parameter *C*, since it provided the model with the best accuracy."
   ]
  },
  {
   "cell_type": "markdown",
   "metadata": {},
   "source": [
    "## <font color=purple>Train The Final Classifier</font>\n",
    "Now that we know the optimal parameters for the design of our classifier, we must train a **new classifier** using the entire Train set (**Xtrain**) and then evaluate its performance with the Test set (**Xtest,Ytest**) based on the accuracy."
   ]
  },
  {
   "cell_type": "code",
   "execution_count": null,
   "metadata": {},
   "outputs": [],
   "source": [
    "\n",
    "\n",
    "print('Final Accuracy: %s' % accuracy_score(Ytest, final_classifier.predict(Xtest)))"
   ]
  },
  {
   "cell_type": "markdown",
   "metadata": {},
   "source": [
    "# <font color=red>-----------------------------------------------------------------------------------------------------------------</font> <br>\n",
    "# <font color=red>-----------------------------------------------------------------------------------------------------------------</font>"
   ]
  },
  {
   "cell_type": "markdown",
   "metadata": {},
   "source": [
    "## <font color=green>Count Vectorizer using '*binary=False*'</font>\n",
    "\n",
    "Now, our sparse matrix instead of be fulfilled with 0s and 1s, each element of this matrix will represent the number of times the respective word appears in each review."
   ]
  },
  {
   "cell_type": "code",
   "execution_count": null,
   "metadata": {},
   "outputs": [],
   "source": [
    "Xtrain = TRAIN['review']\n",
    "Xtest = TEST['review']\n",
    "Ytrain = TRAIN['sentiment']\n",
    "Ytest = TEST['sentiment']\n",
    "\n",
    "cv = CountVectorizer(binary=False, stop_words='english')\n",
    "\n",
    "\n",
    "\n",
    "\n",
    "\n",
    "X_train, X_test, Y_train, Y_test = \n",
    "\n",
    "for c in [0.01, 0.1, 0.5, 1, 1.5, 2]:\n",
    "\n",
    "    \n",
    "    print('Accuracy for C=%s: %s' % (c, accuracy_score(Y_test, lr.predict(X_test))))"
   ]
  },
  {
   "cell_type": "code",
   "execution_count": null,
   "metadata": {},
   "outputs": [],
   "source": [
    "\n",
    "\n",
    "print('Final Accuracy: %s' % accuracy_score(Ytest, final_classifier.predict(Xtest)))"
   ]
  },
  {
   "cell_type": "markdown",
   "metadata": {},
   "source": [
    "## <font color=green>Count Vectorizer using '*ngrams*'</font>\n",
    "\n",
    "In the fields of **NLP**, an n-gram is a contiguous sequence of n items from a given sample of text or speech. <br>\n",
    "This means that in our sparse matrix instead of assigning each unique word in our corpus to a single column, we will define sequences of ***n*** items.\n",
    "\n",
    "Example: \"I did not love the movie\" --> {[I], [did], [not], [love], [the], [movie]}\n",
    "         \"I did not love the movie\" --> {[I], [did], [not love], [the], [movie]}"
   ]
  },
  {
   "cell_type": "code",
   "execution_count": null,
   "metadata": {},
   "outputs": [],
   "source": [
    "Xtrain = TRAIN['review']\n",
    "Xtest = TEST['review']\n",
    "Ytrain = TRAIN['sentiment']\n",
    "Ytest = TEST['sentiment']\n",
    "\n",
    "cv = CountVectorizer(binary=False, ngram_range=(1, 2), stop_words='english')\n",
    "\n",
    "\n",
    "\n",
    "\n",
    "X_train, X_test, Y_train, Y_test = \n",
    "\n",
    "for c in [0.01, 0.1, 0.5, 1, 1.5, 2]:\n",
    "    lr = \n",
    "    \n",
    "    print('Accuracy for C=%s: %s' % (c, accuracy_score(Y_test, lr.predict(X_test))))"
   ]
  },
  {
   "cell_type": "code",
   "execution_count": null,
   "metadata": {},
   "outputs": [],
   "source": [
    "final_classifier = \n",
    "\n",
    "print('Final Accuracy: %s' % accuracy_score(Ytest, final_classifier.predict(Xtest)))"
   ]
  },
  {
   "cell_type": "markdown",
   "metadata": {},
   "source": [
    "## <font color=green>Use of Support Vector Machines (SVM) -- LinearSVC</font>\n",
    "\n"
   ]
  },
  {
   "cell_type": "code",
   "execution_count": null,
   "metadata": {},
   "outputs": [],
   "source": [
    "from sklearn.svm import LinearSVC\n",
    "\n",
    "for c in [0.01, 0.1, 0.5, 1, 1.5, 2]:\n",
    "    svc = LinearSVC(C=c)\n",
    "\n",
    "    print('Accuracy for C=%s: %s' % (c, accuracy_score(Y_test, svc.predict(X_test))))"
   ]
  },
  {
   "cell_type": "code",
   "execution_count": null,
   "metadata": {},
   "outputs": [],
   "source": [
    "final_classifier = \n",
    "\n",
    "print('Final Accuracy: %s' % accuracy_score(Ytest, final_classifier.predict(Xtest)))"
   ]
  }
 ],
 "metadata": {
  "kernelspec": {
   "display_name": "Python 3",
   "language": "python",
   "name": "python3"
  },
  "language_info": {
   "codemirror_mode": {
    "name": "ipython",
    "version": 3
   },
   "file_extension": ".py",
   "mimetype": "text/x-python",
   "name": "python",
   "nbconvert_exporter": "python",
   "pygments_lexer": "ipython3",
   "version": "3.6.9"
  }
 },
 "nbformat": 4,
 "nbformat_minor": 4
}
