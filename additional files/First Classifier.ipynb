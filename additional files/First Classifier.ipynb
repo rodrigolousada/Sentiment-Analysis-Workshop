{
 "cells": [
  {
   "cell_type": "markdown",
   "metadata": {},
   "source": [
    "# **<font color= green>Accenture - Sentiment Analysis<font/>**\n",
    "    "
   ]
  },
  {
   "cell_type": "markdown",
   "metadata": {},
   "source": [
    "## <font color=purple>Installing scikit-learn</font>\n",
    "\n",
    "\n",
    "**Verify installation:** *(run on the terminal)*<br>\n",
    "python -m pip show scikit-learn &nbsp; <font color=green>*# to see which version and where scikit-learn is installed*</font><br>\n",
    "python -m pip freeze &nbsp; <font color=green>*#to see all packages installed in the active virtualenv*</font><br>\n",
    "python -c \"import sklearn; sklearn.show_versions()\""
   ]
  },
  {
   "cell_type": "code",
   "execution_count": null,
   "metadata": {},
   "outputs": [],
   "source": [
    "pip install --upgrade pip"
   ]
  },
  {
   "cell_type": "code",
   "execution_count": null,
   "metadata": {},
   "outputs": [],
   "source": [
    "pip install -U scikit-learn"
   ]
  },
  {
   "cell_type": "code",
   "execution_count": null,
   "metadata": {},
   "outputs": [],
   "source": [
    "print('Hello World!')"
   ]
  },
  {
   "cell_type": "markdown",
   "metadata": {},
   "source": [
    "**Verify is spicy is already installed** -- *(python -m pip show spicy)* -- **if not, then:**"
   ]
  },
  {
   "cell_type": "code",
   "execution_count": null,
   "metadata": {},
   "outputs": [],
   "source": [
    "pip install -U spicy"
   ]
  },
  {
   "cell_type": "code",
   "execution_count": null,
   "metadata": {},
   "outputs": [],
   "source": [
    "pip install -U matplotlib"
   ]
  },
  {
   "cell_type": "markdown",
   "metadata": {},
   "source": [
    "## <font color=purple>Download and Load Dataset</font>\n",
    "dataset of 50,000 movie reviews taken from IMDb.\n",
    "\n",
    "\n",
    "**Download:** https://www.kaggle.com/lakshmi25npathi/imdb-dataset-of-50k-movie-reviews <br>\n",
    "**1.** Create a folder on the project root nammed \"DataSet\"<br>\n",
    "**2.** Move the file into the folder\n",
    "\n",
    "**Pandas DataFrame:** https://pandas.pydata.org/pandas-docs/stable/reference/api/pandas.DataFrame.html <br>"
   ]
  },
  {
   "cell_type": "code",
   "execution_count": null,
   "metadata": {},
   "outputs": [],
   "source": [
    "import pandas as pd\n",
    "pd.set_option('max_colwidth', -1)\n",
    "\n",
    "dataset_path = 'DataSet/'\n",
    "df=pd.read_csv(dataset_path+'IMDB Dataset.csv', sep=',',header=0)\n",
    "df.head(2)"
   ]
  },
  {
   "cell_type": "markdown",
   "metadata": {},
   "source": [
    "## <font color=purple>Clean and Preprocess</font>\n",
    "**Remove special characters**<br>\n",
    "Definition and replace of the special characters for a space or empty string"
   ]
  },
  {
   "cell_type": "code",
   "execution_count": null,
   "metadata": {},
   "outputs": [],
   "source": [
    "import re\n",
    "\n",
    "REPLACE_NO_SPACE = re.compile(\"[.;:!\\'?,\\\"()\\[\\]]\")\n",
    "REPLACE_WITH_SPACE = re.compile(\"(<br\\s*/><br\\s*/>)|(\\-)|(\\/)\")\n",
    "\n",
    "df = df.replace(REPLACE_NO_SPACE, '')\n",
    "df = df.replace(REPLACE_WITH_SPACE, ' ')\n",
    "df.head(1)"
   ]
  },
  {
   "cell_type": "markdown",
   "metadata": {},
   "source": [
    "Now, we have to **stratify** the data and divide the data into a **Train** and **Test** set."
   ]
  },
  {
   "cell_type": "code",
   "execution_count": null,
   "metadata": {},
   "outputs": [],
   "source": [
    "from sklearn.model_selection import train_test_split\n",
    "\n",
    "TRAIN, TEST = train_test_split(df, test_size=0.5, stratify= df['sentiment'])"
   ]
  },
  {
   "cell_type": "markdown",
   "metadata": {},
   "source": [
    "Split each set into **X** and **Y**"
   ]
  },
  {
   "cell_type": "code",
   "execution_count": null,
   "metadata": {},
   "outputs": [],
   "source": [
    "Xtrain = TRAIN['review']\n",
    "Xtest = TEST['review']\n",
    "\n",
    "Ytrain = TRAIN['sentiment']\n",
    "Ytest = TEST['sentiment']\n",
    "Xtrain.head(1)"
   ]
  },
  {
   "cell_type": "markdown",
   "metadata": {},
   "source": [
    "## <font color=purple>Vectorization</font>\n",
    "\n",
    "In order to apply our machine learning algoritms and therefore build an intelligent classifier, we must convert each review to a **numeric representation**. This process is called ***vectorization***. \n",
    "\n",
    "For this process we'll use ***CountVectorizer***(**bag of words**) which creates a large sparse matrix with one column for every unique word in our document and each review will be represented by a row. \n",
    "\n",
    "Firstly, we'll set the '***binary*** *=true*'. Therefore each review will be transformed into one row containing 0s and 1s, where 1 means that the word assigned to a collumn appears in that review. We will also set as input parameter the ***'stop_words'***, which are the set of words that don't add any contextual meaning.\n",
    "\n",
    "\n",
    "**Note** that the output is a sparse matrix (mostly zeros)."
   ]
  },
  {
   "cell_type": "code",
   "execution_count": null,
   "metadata": {},
   "outputs": [],
   "source": [
    "from sklearn.feature_extraction.text import CountVectorizer\n",
    "\n",
    "Xtrain = TRAIN['review']\n",
    "Xtest = TEST['review']\n",
    "Ytrain = TRAIN['sentiment']\n",
    "Ytest = TEST['sentiment']\n",
    "\n",
    "cv = CountVectorizer(binary=True, stop_words='english')\n",
    "cv.fit(Xtrain)\n",
    "Xtrain = cv.transform(Xtrain)\n",
    "Xtest = cv.transform(Xtest)\n",
    "\n",
    "print(Xtrain.shape)"
   ]
  },
  {
   "cell_type": "code",
   "execution_count": null,
   "metadata": {},
   "outputs": [],
   "source": [
    "print(Xtrain[0])"
   ]
  },
  {
   "cell_type": "markdown",
   "metadata": {},
   "source": [
    "## <font color=purple>Designing Phase</font>\n",
    "\n",
    "In this phase, the **Xtrain** set is subdivided into another *train* and *test* set, in order to tune the parameters of our classifier and decide which tune we consider to be **optimal** for the **performance** of our classifier.\n"
   ]
  },
  {
   "cell_type": "code",
   "execution_count": null,
   "metadata": {},
   "outputs": [],
   "source": [
    "from sklearn.linear_model import LogisticRegression\n",
    "from sklearn.metrics import accuracy_score\n",
    "\n",
    "X_train, X_test, Y_train, Y_test = train_test_split(Xtrain, Ytrain, train_size = 0.8)\n",
    "\n",
    "for c in [0.01, 0.1, 0.5, 1, 1.5, 2]:\n",
    "    \n",
    "    lr = LogisticRegression(C=c, max_iter=200)\n",
    "    lr.fit(X_train, Y_train)\n",
    "    print('Accuracy for C=%s: %s' % (c, accuracy_score(Y_test, lr.predict(X_test))))"
   ]
  },
  {
   "cell_type": "markdown",
   "metadata": {},
   "source": [
    "Then, ***'C = 0.1'*** is the optimal value for the parameter *C*, since it provided the model with the best accuracy."
   ]
  },
  {
   "cell_type": "markdown",
   "metadata": {},
   "source": [
    "## <font color=purple>Train The Final Classifier</font>\n",
    "Now that we know the optimal parameters for the design of our classifier, we must train a **new classifier** using the entire Train set (**Xtrain**) and then evaluate its performance with the Test set (**Xtest,Ytest**) based on the accuracy."
   ]
  },
  {
   "cell_type": "code",
   "execution_count": null,
   "metadata": {},
   "outputs": [],
   "source": [
    "final_classifier = LogisticRegression(C=0.1, max_iter=300)\n",
    "final_classifier.fit(Xtrain,Ytrain)\n",
    "print('Final Accuracy: %s' % accuracy_score(Ytest, final_classifier.predict(Xtest)))"
   ]
  },
  {
   "cell_type": "markdown",
   "metadata": {},
   "source": [
    "# <font color=red>-----------------------------------------------------------------------------------------------------------------</font> <br>\n",
    "# <font color=red>-----------------------------------------------------------------------------------------------------------------</font>"
   ]
  },
  {
   "cell_type": "markdown",
   "metadata": {},
   "source": [
    "## <font color=green>Count Vectorizer using '*binary=False*'</font>\n",
    "\n",
    "Now, our sparse matrix instead of be fulfilled with 0s and 1s, each element of this matrix will represent the number of times the respective word appears in each review."
   ]
  },
  {
   "cell_type": "code",
   "execution_count": null,
   "metadata": {},
   "outputs": [],
   "source": [
    "Xtrain = TRAIN['review']\n",
    "Xtest = TEST['review']\n",
    "Ytrain = TRAIN['sentiment']\n",
    "Ytest = TEST['sentiment']\n",
    "\n",
    "cv = CountVectorizer(binary=False, stop_words='english')\n",
    "cv.fit(Xtrain)\n",
    "Xtrain = cv.transform(Xtrain)\n",
    "Xtest = cv.transform(Xtest)\n",
    "\n",
    "X_train, X_test, Y_train, Y_test = train_test_split(Xtrain, Ytrain, train_size = 0.8)\n",
    "\n",
    "for c in [0.01, 0.1, 0.5, 1, 1.5, 2]:\n",
    "    lr = LogisticRegression(C=c, max_iter=300)\n",
    "    lr.fit(X_train, Y_train)\n",
    "    print('Accuracy for C=%s: %s' % (c, accuracy_score(Y_test, lr.predict(X_test))))"
   ]
  },
  {
   "cell_type": "code",
   "execution_count": null,
   "metadata": {},
   "outputs": [],
   "source": [
    "final_classifier = LogisticRegression(C=0.1, max_iter=300)\n",
    "final_classifier.fit(Xtrain,Ytrain)\n",
    "print('Final Accuracy: %s' % accuracy_score(Ytest, final_classifier.predict(Xtest)))"
   ]
  },
  {
   "cell_type": "markdown",
   "metadata": {},
   "source": [
    "## <font color=green>Count Vectorizer using '*ngrams*'</font>\n",
    "\n",
    "In the fields of **NLP**, an n-gram is a contiguous sequence of n items from a given sample of text or speech. <br>\n",
    "This means that in our sparse matrix instead of assigning each unique word in our corpus to a single column, we will define sequences of ***n*** items.\n",
    "\n",
    "Example: \"I did not love the movie\" --> {[I], [did], [not], [love], [the], [movie]}\n",
    "         \"I did not love the movie\" --> {[I], [did], [not love], [the], [movie]}"
   ]
  },
  {
   "cell_type": "code",
   "execution_count": null,
   "metadata": {},
   "outputs": [],
   "source": [
    "Xtrain = TRAIN['review']\n",
    "Xtest = TEST['review']\n",
    "Ytrain = TRAIN['sentiment']\n",
    "Ytest = TEST['sentiment']\n",
    "\n",
    "cv = CountVectorizer(binary=False, ngram_range=(1, 2), stop_words='english')\n",
    "cv.fit(Xtrain)\n",
    "Xtrain = cv.transform(Xtrain)\n",
    "Xtest = cv.transform(Xtest)\n",
    "\n",
    "X_train, X_test, Y_train, Y_test = train_test_split(Xtrain, Ytrain, train_size = 0.8)\n",
    "\n",
    "for c in [0.01, 0.1, 0.5, 1, 1.5, 2]:\n",
    "    lr = LogisticRegression(C=c, max_iter=300)\n",
    "    lr.fit(X_train, Y_train)\n",
    "    print('Accuracy for C=%s: %s' % (c, accuracy_score(Y_test, lr.predict(X_test))))"
   ]
  },
  {
   "cell_type": "code",
   "execution_count": null,
   "metadata": {},
   "outputs": [],
   "source": [
    "final_classifier = LogisticRegression(C=0.1, max_iter=300)\n",
    "final_classifier.fit(Xtrain,Ytrain)\n",
    "print('Final Accuracy: %s' % accuracy_score(Ytest, final_classifier.predict(Xtest)))"
   ]
  },
  {
   "cell_type": "markdown",
   "metadata": {},
   "source": [
    "## <font color=green>Use of Support Vector Machines (SVM) -- LinearSVC</font>\n",
    "\n"
   ]
  },
  {
   "cell_type": "code",
   "execution_count": null,
   "metadata": {},
   "outputs": [],
   "source": [
    "from sklearn.svm import LinearSVC\n",
    "\n",
    "for c in [0.01, 0.1, 0.5, 1, 1.5, 2]:\n",
    "    svc = LinearSVC(C=c)\n",
    "    svc.fit(X_train, Y_train)\n",
    "    print('Accuracy for C=%s: %s' % (c, accuracy_score(Y_test, svc.predict(X_test))))"
   ]
  },
  {
   "cell_type": "code",
   "execution_count": null,
   "metadata": {},
   "outputs": [],
   "source": [
    "final_classifier = LinearSVC(C=0.01)\n",
    "final_classifier.fit(Xtrain,Ytrain)\n",
    "print('Final Accuracy: %s' % accuracy_score(Ytest, final_classifier.predict(Xtest)))"
   ]
  }
 ],
 "metadata": {
  "kernelspec": {
   "display_name": "Python 3",
   "language": "python",
   "name": "python3"
  },
  "language_info": {
   "codemirror_mode": {
    "name": "ipython",
    "version": 3
   },
   "file_extension": ".py",
   "mimetype": "text/x-python",
   "name": "python",
   "nbconvert_exporter": "python",
   "pygments_lexer": "ipython3",
   "version": "3.7.4"
  }
 },
 "nbformat": 4,
 "nbformat_minor": 4
}
